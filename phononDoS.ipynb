{
 "cells": [
  {
   "cell_type": "code",
   "execution_count": null,
   "id": "9ceb6781",
   "metadata": {},
   "outputs": [],
   "source": [
    "# model\n",
    "import torch\n",
    "import torch.nn as nn\n",
    "import torch.nn.functional as F\n",
    "import torch_geometric as tg\n",
    "import torch_scatter\n",
    "import e3nn\n",
    "from e3nn.nn.models.v2103.gate_points_networks import SimpleNetwork\n",
    "from typing import Dict, Union\n",
    "\n",
    "# crystal structure data\n",
    "from pymatgen.core.periodic_table import Element\n",
    "from ase import Atoms\n",
    "from ase.neighborlist import neighbor_list\n",
    "\n",
    "# data pre-processing and visualization\n",
    "import numpy as np\n",
    "import matplotlib.pyplot as plt\n",
    "\n",
    "# utilities\n",
    "import time\n",
    "from tqdm import tqdm\n",
    "from utils import load_data, train_valid_test_split, plot_example, train, plot_predictions, bar_format, colors\n",
    "\n",
    "default_dtype = torch.float64\n",
    "torch.set_default_dtype(default_dtype)"
   ]
  },
  {
   "cell_type": "code",
   "execution_count": null,
   "id": "10a63c8c",
   "metadata": {},
   "outputs": [],
   "source": [
    "# reload a module without kernel restart\n",
    "from importlib import reload\n",
    "import sys\n",
    "reload(sys.modules['utils'])\n",
    "from utils import load_data, train_valid_test_split, train, plot_predictions, bar_format, colors"
   ]
  },
  {
   "cell_type": "code",
   "execution_count": null,
   "id": "43ac376f",
   "metadata": {},
   "outputs": [],
   "source": [
    "def build_data(entry, type_encoding, type_onehot, r_max=5.):\n",
    "    symbols = [specie.symbol for specie in entry.structure.species]\n",
    "    positions = torch.from_numpy(entry.structure.cart_coords.copy())\n",
    "    cell = torch.from_numpy(entry.structure.lattice.matrix.copy())\n",
    "    crystal = Atoms(symbols=symbols, positions=positions, cell=cell, pbc=True)\n",
    "\n",
    "    # edge_src and edge_dst are the indices of the central and neighboring atom, respectively\n",
    "    # edge_shift indicates whether the neighbors are in different images / copies of the unit cell\n",
    "    edge_src, edge_dst, edge_shift = neighbor_list(\"ijS\", a=crystal, cutoff=r_max, self_interaction=True)\n",
    "    \n",
    "    # calculate edge lengths\n",
    "    batch = positions.new_zeros(positions.shape[0], dtype=torch.long)\n",
    "    edge_batch = batch[torch.from_numpy(edge_src)]\n",
    "    edge_vec = (positions[torch.from_numpy(edge_dst)]\n",
    "                - positions[torch.from_numpy(edge_src)]\n",
    "                + torch.einsum('ni,nij->j', torch.tensor(edge_shift, dtype=default_dtype),\n",
    "                               cell.unsqueeze(0)[edge_batch]))\n",
    "    edge_len = np.around(np.sqrt((edge_vec**2).sum(dim=1).numpy()), decimals=2)\n",
    "    \n",
    "    data = tg.data.Data(\n",
    "        pos=positions,\n",
    "        lattice=cell.unsqueeze(0),\n",
    "        symbol=symbols,\n",
    "        x=type_onehot[[type_encoding[specie] for specie in symbols]],\n",
    "        edge_index=torch.stack([torch.LongTensor(edge_src), torch.LongTensor(edge_dst)], dim=0),\n",
    "        edge_shift=torch.tensor(edge_shift, dtype=default_dtype),\n",
    "        edge_len=edge_len,\n",
    "        phdos=torch.from_numpy(entry.phdos).unsqueeze(0)\n",
    "    )\n",
    "    \n",
    "    return data\n",
    "\n",
    "\n",
    "class SimplePeriodicNetwork(SimpleNetwork):\n",
    "    def __init__(self, in_dim, em_dim, **kwargs):\n",
    "        \"\"\"The keyword `pool_nodes` is used by SimpleNetwork to determine\n",
    "        whether we sum over all atom contributions per example. In this example,\n",
    "        we want use a mean operation instead, so we will override this behavior.\n",
    "        \"\"\"\n",
    "        \n",
    "        self.pool = False\n",
    "        if kwargs['pool_nodes'] == True:\n",
    "            kwargs['pool_nodes'] = False\n",
    "            kwargs['num_nodes'] = 1.\n",
    "            self.pool = True\n",
    "        super().__init__(**kwargs)\n",
    "\n",
    "        # further embed the mass-weighted one-hot encoding\n",
    "        self.fc1 = nn.Linear(in_dim, em_dim)\n",
    "\n",
    "    # Overwriting preprocess method of SimpleNetwork to adapt for periodic boundary data\n",
    "    def preprocess(self, data: Union[tg.data.Data, Dict[str, torch.Tensor]]) -> torch.Tensor:\n",
    "        if 'batch' in data:\n",
    "            batch = data['batch']\n",
    "        else:\n",
    "            batch = data['pos'].new_zeros(data['pos'].shape[0], dtype=torch.long)\n",
    "\n",
    "        edge_src = data['edge_index'][0]  # Edge source\n",
    "        edge_dst = data['edge_index'][1]  # Edge destination\n",
    "\n",
    "        # We need to compute this in the computation graph to backprop to positions\n",
    "        # We are computing the relative distances + unit cell shifts from periodic boundaries\n",
    "        edge_batch = batch[edge_src]\n",
    "        edge_vec = (data['pos'][edge_dst]\n",
    "                    - data['pos'][edge_src]\n",
    "                    + torch.einsum('ni,nij->j', data['edge_shift'], data['lattice'][edge_batch]))\n",
    "\n",
    "        return batch, data['x'], edge_src, edge_dst, edge_vec\n",
    "\n",
    "    def forward(self, data: Union[tg.data.Data, Dict[str, torch.Tensor]]) -> torch.Tensor:\n",
    "        # if pool_nodes was set to True, use scatter_mean to aggregate\n",
    "        data.x = F.relu(self.fc1(data.x))\n",
    "        output = super().forward(data)\n",
    "        \n",
    "        if self.pool == True:\n",
    "            output = torch_scatter.scatter_mean(output, data.batch, dim=0)  # Take mean over atoms per example\n",
    "            # output = torch.sigmoid(output)\n",
    "            output = F.relu(output)\n",
    "            maxima, _ = torch.max(output, dim=1)\n",
    "            output = output.div(maxima.unsqueeze(1))\n",
    "            return output\n",
    "        \n",
    "        else:\n",
    "            # output = torch.sigmoid(output)\n",
    "            output = F.relu(output)\n",
    "            maxima, _ = torch.max(output, dim=1)\n",
    "            output = output.div(maxima.unsqueeze(1))\n",
    "            return output"
   ]
  },
  {
   "cell_type": "code",
   "execution_count": null,
   "id": "6faeb5b9",
   "metadata": {},
   "outputs": [],
   "source": [
    "# load data\n",
    "df, species = load_data('data.csv')\n",
    "df.head()"
   ]
  },
  {
   "cell_type": "code",
   "execution_count": null,
   "id": "93387315",
   "metadata": {},
   "outputs": [],
   "source": [
    "# train/valid/test split\n",
    "idx_train, idx_valid, idx_test = train_valid_test_split(df, species, seed=12, plot=True)"
   ]
  },
  {
   "cell_type": "code",
   "execution_count": null,
   "id": "628113cc",
   "metadata": {},
   "outputs": [],
   "source": [
    "# one-hot encoding atomic mass\n",
    "type_encoding = {}\n",
    "specie_am = []\n",
    "for Z in tqdm(range(1, 119), bar_format=bar_format):\n",
    "    specie = Element.from_Z(Z)\n",
    "    type_encoding[specie.symbol] = Z\n",
    "    specie_am.append(specie.atomic_mass)\n",
    "\n",
    "type_onehot = torch.diag(torch.tensor(specie_am))"
   ]
  },
  {
   "cell_type": "code",
   "execution_count": null,
   "id": "5d401d13",
   "metadata": {},
   "outputs": [],
   "source": [
    "# build data\n",
    "r_max = 5 # cutoff radius\n",
    "df['data'] = df.progress_apply(lambda x: build_data(x, type_encoding, type_onehot, r_max), axis=1)"
   ]
  },
  {
   "cell_type": "code",
   "execution_count": null,
   "id": "e57fac48",
   "metadata": {},
   "outputs": [],
   "source": [
    "plot_example(df, i=12, label_edges=True)"
   ]
  },
  {
   "cell_type": "code",
   "execution_count": null,
   "id": "6c2b6f9a",
   "metadata": {},
   "outputs": [],
   "source": [
    "batch_size = 1\n",
    "dataloader_train = tg.data.DataLoader(df.iloc[idx_train]['data'].values, batch_size=batch_size, shuffle=True)\n",
    "dataloader_valid = tg.data.DataLoader(df.iloc[idx_valid]['data'].values, batch_size=batch_size)\n",
    "dataloader_test = tg.data.DataLoader(df.iloc[idx_test]['data'].values, batch_size=batch_size)"
   ]
  },
  {
   "cell_type": "code",
   "execution_count": null,
   "id": "20f6ce87",
   "metadata": {},
   "outputs": [],
   "source": [
    "# calculate average number of neighbors\n",
    "def get_neighbors(df, idx):\n",
    "    n = []\n",
    "    for entry in df.iloc[idx].itertuples():\n",
    "        N = entry.data.pos.shape[0]\n",
    "        for i in range(N):\n",
    "            n.append(len((entry.data.edge_index[0] == i).nonzero()))\n",
    "    return np.array(n)\n",
    "\n",
    "n_train = get_neighbors(df, idx_train)\n",
    "n_valid = get_neighbors(df, idx_valid)\n",
    "n_test = get_neighbors(df, idx_test)\n",
    "\n",
    "fig, ax = plt.subplots(1,1, figsize=(5,4))\n",
    "b = 0.\n",
    "bins = 50\n",
    "for (d, c), n in zip(colors.items(), [n_train, n_valid, n_test]):\n",
    "    color = [int(c.lstrip('#')[i:i+2], 16)/255. for i in (0,2,4)]\n",
    "    y, bins, _, = ax.hist(n, bins=bins, fc=color+[0.7], ec=color, bottom=b, label=d)\n",
    "    b += y\n",
    "ax.set_xlabel('number of neighbors')\n",
    "ax.set_ylabel('number of examples')\n",
    "ax.legend(frameon=False)\n",
    "\n",
    "print('average number of neighbors (train/valid/test):', n_train.mean(), '/', n_valid.mean(), '/', n_test.mean())"
   ]
  },
  {
   "cell_type": "code",
   "execution_count": null,
   "id": "ad643a92",
   "metadata": {},
   "outputs": [],
   "source": [
    "out_dim = len(df.iloc[0]['phfreq'])\n",
    "em_dim = 64\n",
    "model = SimplePeriodicNetwork(\n",
    "    in_dim=118,\n",
    "    em_dim=em_dim,\n",
    "    irreps_in=str(em_dim)+\"x0e\",    # one-hot scalars (L=0 and even parity) on each atom to represent atom type\n",
    "    irreps_out=str(out_dim)+\"x0e\",  # out_dim scalars (L=0 and even parity) to output\n",
    "    max_radius=r_max,               # cutoff radius for convolution\n",
    "    num_neighbors=n_train.mean(),   # scaling factor based on the typical number of neighbors\n",
    "    pool_nodes=True,\n",
    ")\n",
    "\n",
    "print(model)"
   ]
  },
  {
   "cell_type": "code",
   "execution_count": null,
   "id": "2ff83bc0",
   "metadata": {},
   "outputs": [],
   "source": [
    "opt = torch.optim.AdamW(model.parameters(), lr=0.001, weight_decay=0.05)\n",
    "scheduler = torch.optim.lr_scheduler.ExponentialLR(opt, gamma=0.96)\n",
    "\n",
    "loss_fn = torch.nn.MSELoss()\n",
    "loss_fn_mae = torch.nn.L1Loss()"
   ]
  },
  {
   "cell_type": "code",
   "execution_count": null,
   "id": "c64be661",
   "metadata": {},
   "outputs": [],
   "source": [
    "device = \"cuda:7\" if torch.cuda.is_available() else \"cpu\"\n",
    "print('torch device:' , device)\n",
    "\n",
    "run_name = 'models/' + time.strftime(\"%y%m%d\", time.localtime())\n",
    "print(run_name)"
   ]
  },
  {
   "cell_type": "code",
   "execution_count": null,
   "id": "9f9c001a",
   "metadata": {},
   "outputs": [],
   "source": [
    "for results in train(model, opt, dataloader_train, dataloader_valid, loss_fn, loss_fn_mae, max_iter=64,\n",
    "                     scheduler=scheduler, device=device):\n",
    "    with open(run_name + '_test.torch', 'wb') as f:\n",
    "        torch.save(results, f)"
   ]
  },
  {
   "cell_type": "code",
   "execution_count": null,
   "id": "f0f00651",
   "metadata": {},
   "outputs": [],
   "source": [
    "saved = torch.load(run_name + '_test.torch')\n",
    "steps = [d['step'] + 1 for d in saved['dynamics']]\n",
    "valid = [d['valid']['loss'] for d in saved['dynamics']]\n",
    "train = [d['train']['loss'] for d in saved['dynamics']]\n",
    "\n",
    "fig, ax = plt.subplots(figsize=(6,5))\n",
    "ax.plot(steps, train, 'o-', label=\"train\", color=colors['train'])\n",
    "ax.plot(steps, valid, 'o-', label=\"valid\", color=colors['valid'])\n",
    "ax.set_xlabel('epochs')\n",
    "ax.set_ylabel('loss')\n",
    "ax.legend(frameon=False);"
   ]
  },
  {
   "cell_type": "code",
   "execution_count": null,
   "id": "17125e78",
   "metadata": {},
   "outputs": [],
   "source": [
    "# predict on all data\n",
    "dataloader = tg.data.DataLoader(df['data'].values, batch_size=64)\n",
    "df['mse'] = 0.\n",
    "df['phdos_pred'] = np.empty((len(df), 0)).tolist()\n",
    "\n",
    "model.eval()\n",
    "with torch.no_grad():\n",
    "    i0 = 0\n",
    "    for i, d in tqdm(enumerate(dataloader), total=len(dataloader), bar_format=bar_format):\n",
    "        d.to(device)\n",
    "        output = model(d)\n",
    "        loss = F.mse_loss(output, d.phdos, reduction='none').mean(dim=-1).cpu().numpy()\n",
    "        df.loc[i0:i0 + len(d.phdos) - 1, 'phdos_pred'] = [[k] for k in output.cpu().numpy()]\n",
    "        df.loc[i0:i0 + len(d.phdos) - 1, 'mse'] = loss\n",
    "        i0 += len(d.phdos)\n",
    "        \n",
    "df['phdos_pred'] = df['phdos_pred'].map(lambda x: x[0])"
   ]
  },
  {
   "cell_type": "code",
   "execution_count": null,
   "id": "ccb6717a",
   "metadata": {},
   "outputs": [],
   "source": [
    "plot_predictions(df, idx_train, 'Training')"
   ]
  },
  {
   "cell_type": "code",
   "execution_count": null,
   "id": "ac9b5091",
   "metadata": {},
   "outputs": [],
   "source": [
    "plot_predictions(df, idx_valid, 'Validation')"
   ]
  },
  {
   "cell_type": "code",
   "execution_count": null,
   "id": "625a8c20",
   "metadata": {},
   "outputs": [],
   "source": [
    "plot_predictions(df, idx_test, 'Testing')"
   ]
  },
  {
   "cell_type": "code",
   "execution_count": null,
   "id": "d2cf1e46",
   "metadata": {},
   "outputs": [],
   "source": []
  }
 ],
 "metadata": {
  "celltoolbar": "Slideshow",
  "kernelspec": {
   "display_name": "Python 3 (ipykernel)",
   "language": "python",
   "name": "python3"
  },
  "language_info": {
   "codemirror_mode": {
    "name": "ipython",
    "version": 3
   },
   "file_extension": ".py",
   "mimetype": "text/x-python",
   "name": "python",
   "nbconvert_exporter": "python",
   "pygments_lexer": "ipython3",
   "version": "3.9.5"
  }
 },
 "nbformat": 4,
 "nbformat_minor": 5
}
